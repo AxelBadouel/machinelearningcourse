{
  "nbformat": 4,
  "nbformat_minor": 0,
  "metadata": {
    "colab": {
      "provenance": [],
      "include_colab_link": true
    },
    "kernelspec": {
      "name": "python3",
      "display_name": "Python 3"
    },
    "language_info": {
      "name": "python"
    }
  },
  "cells": [
    {
      "cell_type": "markdown",
      "metadata": {
        "id": "view-in-github",
        "colab_type": "text"
      },
      "source": [
        "<a href=\"https://colab.research.google.com/github/AxelBadouel/machinelearningcourse/blob/main/myversion_of_Project.ipynb\" target=\"_parent\"><img src=\"https://colab.research.google.com/assets/colab-badge.svg\" alt=\"Open In Colab\"/></a>"
      ]
    },
    {
      "cell_type": "markdown",
      "source": [
        "creiamo il dataset divide da solo tra traininge test xk ha già come test integrado essendo un dataset di torch vison ma noi dobbiamo creare il validation\n",
        "4"
      ],
      "metadata": {
        "id": "Xldh49MCRXf3"
      }
    },
    {
      "cell_type": "code",
      "source": [
        "list=[[] for _ in range(10)]\n",
        "list[0].append('martina')\n",
        "print(list)"
      ],
      "metadata": {
        "colab": {
          "base_uri": "https://localhost:8080/"
        },
        "id": "W2BDsRLTPce3",
        "outputId": "50ae2c8a-26d9-461a-94e3-56045deba3e9"
      },
      "execution_count": null,
      "outputs": [
        {
          "output_type": "stream",
          "name": "stdout",
          "text": [
            "[['martina'], [], [], [], [], [], [], [], [], []]\n"
          ]
        }
      ]
    },
    {
      "cell_type": "code",
      "source": [
        "%matplotlib inline\n",
        "\n",
        "import torch\n",
        "import torch.nn as nn\n",
        "import torch.optim as optim\n",
        "from torch.optim import lr_scheduler\n",
        "import torch.backends.cudnn as cudnn\n",
        "import numpy as np\n",
        "import numpy as np\n",
        "import random\n",
        "from torch.utils.data import DataLoader, Subset\n",
        "import torchvision\n",
        "from torchvision import datasets, models, transforms\n",
        "import matplotlib.pyplot as plt\n",
        "import time\n",
        "import os\n",
        "from PIL import Image\n",
        "from tempfile import TemporaryDirectory\n",
        "\n",
        "\n",
        "import torch\n",
        "from torchvision import datasets, transforms\n",
        "from torch.utils.data import DataLoader, random_split  # Importa strumenti per il caricamento e la suddivisione dei dati\n"
      ],
      "metadata": {
        "id": "SwtWVWITc_rn"
      },
      "execution_count": 13,
      "outputs": []
    },
    {
      "cell_type": "code",
      "execution_count": 4,
      "metadata": {
        "id": "TVUyoclaMmOe"
      },
      "outputs": [],
      "source": [
        "# Definisce la trasformazione da applicare alle immagini:\n",
        "# converte le immagini in tensori e le normalizza con media e deviazione standard predefinite per CIFAR-100\n",
        "transform = transforms.Compose([\n",
        "    transforms.ToTensor(),  # Converte l'immagine PIL in un tensore\n",
        "    transforms.Normalize((0.5071, 0.4867, 0.4408),  # Media per ciascun canale RGB\n",
        "                         (0.2675, 0.2565, 0.2761))  # Deviazione standard per ciascun canale RGB\n",
        "])\n",
        "\n",
        "# Scarica il dataset CIFAR-100 (train e test) se non è già presente nella directory indicata\n",
        "train_full = datasets.CIFAR100(root='./data', train=True, download=True, transform=transform)\n",
        "test_set = datasets.CIFAR100(root='./data', train=False, download=True, transform=transform)\n",
        "\n",
        "generator = torch.Generator().manual_seed(42) # Per fare in modo che lo random_split avvenga in  modo deterministico e quindi riproducibile\n",
        "\n",
        "# Suddivide il dataset di training in due parti: 90% per il training, 10% per la validazione\n",
        "train_size = int(0.9 * len(train_full))  # Calcola la dimensione del set di training (90% di 50000 = 45000)\n",
        "valid_size = len(train_full) - train_size  # Il resto va nel set di validazione (10% = 5000)\n",
        "train_set, valid_set = random_split(train_full, [train_size, valid_size], generator)  # Esegue la divisione\n",
        "\n",
        "\n",
        "\n",
        "\n",
        "\n",
        "\n",
        "\n",
        "\n",
        "\n",
        "\n",
        "\n",
        "\n",
        "\n"
      ]
    },
    {
      "cell_type": "markdown",
      "source": [
        "caricato il modello verificare se è correto\n"
      ],
      "metadata": {
        "id": "uq3uOEHDZR4G"
      }
    },
    {
      "cell_type": "code",
      "source": [
        "dino_model = torch.hub.load('facebookresearch/dino:main', 'dino_vits16')\n",
        "#dino_model = timm.create_model('vit_small_patch16_224_dino', pretrained=True)\n",
        "in_features = dino_model.num_features  # Ottiene il numero di feature in uscita dal backbone\n",
        "dino_model.head = nn.Linear(in_features, 100)\n",
        "\n",
        "# Imposta il dispositivo di calcolo: usa la GPU se disponibile, altrimenti la CPU\n",
        "# e trasferisce il modello DINO sul dispositivo scelto per allenamento o inferenza\n",
        "device = torch.device('cuda' if torch.cuda.is_available() else 'cpu')\n",
        "dino_model.to(device)\n",
        "\n",
        "\n"
      ],
      "metadata": {
        "colab": {
          "base_uri": "https://localhost:8080/"
        },
        "id": "BrayDnf0RVju",
        "outputId": "5e3cf4ee-526a-4ac0-a97e-d0ba39b4f50f"
      },
      "execution_count": 7,
      "outputs": [
        {
          "output_type": "stream",
          "name": "stderr",
          "text": [
            "Using cache found in /root/.cache/torch/hub/facebookresearch_dino_main\n"
          ]
        },
        {
          "output_type": "execute_result",
          "data": {
            "text/plain": [
              "VisionTransformer(\n",
              "  (patch_embed): PatchEmbed(\n",
              "    (proj): Conv2d(3, 384, kernel_size=(16, 16), stride=(16, 16))\n",
              "  )\n",
              "  (pos_drop): Dropout(p=0.0, inplace=False)\n",
              "  (blocks): ModuleList(\n",
              "    (0-11): 12 x Block(\n",
              "      (norm1): LayerNorm((384,), eps=1e-06, elementwise_affine=True)\n",
              "      (attn): Attention(\n",
              "        (qkv): Linear(in_features=384, out_features=1152, bias=True)\n",
              "        (attn_drop): Dropout(p=0.0, inplace=False)\n",
              "        (proj): Linear(in_features=384, out_features=384, bias=True)\n",
              "        (proj_drop): Dropout(p=0.0, inplace=False)\n",
              "      )\n",
              "      (drop_path): Identity()\n",
              "      (norm2): LayerNorm((384,), eps=1e-06, elementwise_affine=True)\n",
              "      (mlp): Mlp(\n",
              "        (fc1): Linear(in_features=384, out_features=1536, bias=True)\n",
              "        (act): GELU(approximate='none')\n",
              "        (fc2): Linear(in_features=1536, out_features=384, bias=True)\n",
              "        (drop): Dropout(p=0.0, inplace=False)\n",
              "      )\n",
              "    )\n",
              "  )\n",
              "  (norm): LayerNorm((384,), eps=1e-06, elementwise_affine=True)\n",
              "  (head): Linear(in_features=384, out_features=100, bias=True)\n",
              ")"
            ]
          },
          "metadata": {},
          "execution_count": 7
        }
      ]
    },
    {
      "cell_type": "code",
      "source": [
        "print(dino_model)"
      ],
      "metadata": {
        "colab": {
          "base_uri": "https://localhost:8080/"
        },
        "id": "xZWXOjzlVfvF",
        "outputId": "bbd9e971-48a7-48fa-8d4c-65791b1c0447"
      },
      "execution_count": 5,
      "outputs": [
        {
          "output_type": "stream",
          "name": "stdout",
          "text": [
            "VisionTransformer(\n",
            "  (patch_embed): PatchEmbed(\n",
            "    (proj): Conv2d(3, 384, kernel_size=(16, 16), stride=(16, 16))\n",
            "  )\n",
            "  (pos_drop): Dropout(p=0.0, inplace=False)\n",
            "  (blocks): ModuleList(\n",
            "    (0-11): 12 x Block(\n",
            "      (norm1): LayerNorm((384,), eps=1e-06, elementwise_affine=True)\n",
            "      (attn): Attention(\n",
            "        (qkv): Linear(in_features=384, out_features=1152, bias=True)\n",
            "        (attn_drop): Dropout(p=0.0, inplace=False)\n",
            "        (proj): Linear(in_features=384, out_features=384, bias=True)\n",
            "        (proj_drop): Dropout(p=0.0, inplace=False)\n",
            "      )\n",
            "      (drop_path): Identity()\n",
            "      (norm2): LayerNorm((384,), eps=1e-06, elementwise_affine=True)\n",
            "      (mlp): Mlp(\n",
            "        (fc1): Linear(in_features=384, out_features=1536, bias=True)\n",
            "        (act): GELU(approximate='none')\n",
            "        (fc2): Linear(in_features=1536, out_features=384, bias=True)\n",
            "        (drop): Dropout(p=0.0, inplace=False)\n",
            "      )\n",
            "    )\n",
            "  )\n",
            "  (norm): LayerNorm((384,), eps=1e-06, elementwise_affine=True)\n",
            "  (head): Linear(in_features=384, out_features=100, bias=True)\n",
            ")\n"
          ]
        }
      ]
    },
    {
      "cell_type": "markdown",
      "source": [
        "classicatore finale in load(): model.head ---> come output 100 layer"
      ],
      "metadata": {
        "id": "ggJyR7QiRWRd"
      }
    },
    {
      "cell_type": "markdown",
      "source": [
        "![image.png](data:image/png;base64,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)\n",
        "\n",
        "https://docs.pytorch.org/docs/stable/data.html control + f 'Subset(dataset, indices)'\n"
      ],
      "metadata": {
        "id": "H-WbLm38-WnT"
      }
    },
    {
      "cell_type": "code",
      "source": [
        "def make_shards(dataset, num_clients, tot_classes, iid=True, num_classes_per_client=2):\n",
        "\n",
        "    # if iid:\n",
        "    # IID: mescola casualmente tutti gli indici e li divide equamente tra i client\n",
        "    indexPerm= np.random.permutation(len(dataset))  # Mescola gli indici dei dati\n",
        "    shard_size = len(dataset) // num_clients  # Calcola la dimensione di ogni shard\n",
        "    client_indices = []  # Lista vuota per gli indici di ciascun client\n",
        "\n",
        "    for i in range(num_clients): #range(num_clients) include lo zero e va fino a num_clients - 1.\n",
        "        start = i * shard_size  # Inizio dello shard per il client i\n",
        "        end = start + shard_size  # Fine dello shard per il client i\n",
        "        #COMMENTO:\n",
        "        # Ottieni il blocco di indici per il client i\n",
        "          # prende gli indici dall'array np.random.permutation(len(dataset)) dalla posizione\n",
        "          # start alla posizione end-1\n",
        "        shard = indexPerm[start:end]\n",
        "\n",
        "        # Aggiungi lo shard alla lista\n",
        "        client_indices.append(shard)\n",
        "        print(f\"Client indices: {client_indices[i]}\")\n",
        "\n",
        "    # else:\n",
        "    #   #creo una lista dove ogni entata ci sono gli indici del dataset che hanno quella label\n",
        "    #   indici_classe= [[] for _ in range(tot_classes)]\n",
        "    #   for idx in range(len(dataset)):\n",
        "    #       _, label = dataset[idx]  # Estrae solo la label\n",
        "    #       #in CIFAR-100 le label possono sembrare parole ma nel dataset CIFAR100 di PyTorch,\n",
        "    #       #ogni immagine è associata internamente a un indice intero da 0 a 99, che rappresenta l'ultima classe\n",
        "    #       indici_classe[label].append(idx)\n",
        "    #       # Mischia gli indici all'interno di ogni classe (shuffle)\n",
        "\n",
        "    #       for classe in range(tot_classes):\n",
        "    #         np.random.shuffle(indici_classe[classe])  # Mischia direttamente gli indici all'interno della lista della classe\n",
        "    #       # Con shuffle, i dati all'interno di class_indices[i] vengono rimescolati in modo casuale\n",
        "    #       # NON viene creata una nuova lista, ma la lista stessa viene modificata\n",
        "    #       print(f\"Client indices: {client_indices[i]}\")\n",
        "    # #------------------------------------\n",
        "\n",
        "    # Lista vuota in cui andremo a memorizzare i sotto-dataset per ciascun client\n",
        "    subset_list = []\n",
        "    # Ora, per ogni gruppo di indici che rappresenta i dati per ciascun client,\n",
        "    # creiamo un 'Subset' che rappresenta il sotto-dataset di quel client.\n",
        "    for indices in client_indices:\n",
        "    # Crea un Subset del dataset originale utilizzando gli indici specificati per un client.\n",
        "    # Ogni 'subset' contiene solo i dati corrispondenti agli 'indices' specificati.\n",
        "      subset = Subset(dataset, indices)  # Crea il sotto-dataset per ciascun client\n",
        "\n",
        "      # Aggiungi il 'subset' appena creato alla lista subset_list\n",
        "      # subset_list diventa una lista di sotto-dataset per ogni client\n",
        "      subset_list.append(subset)\n",
        "\n",
        "# dataset = range(100)\n",
        "# num_clients = 6\n",
        "# tot_classes = 10\n",
        "# make_shards(dataset, num_clients, tot_classes)"
      ],
      "metadata": {
        "id": "XlJv8Crn6iAT",
        "colab": {
          "base_uri": "https://localhost:8080/"
        },
        "outputId": "a81d296b-7d8c-42af-b470-ba20784a70cc"
      },
      "execution_count": 29,
      "outputs": [
        {
          "output_type": "stream",
          "name": "stdout",
          "text": [
            "Client indices: [27 13 26 62 77 45 82 66 94 99 57 75 23 90 44 50]\n",
            "Client indices: [81 47 96  5 49  1 25 17 40 59 29 35  8 46  6 68]\n",
            "Client indices: [55 93  7 84 63 78  4 91 58 60 33 64 34 20 97 67]\n",
            "Client indices: [41 15 18 89 10 30 71 51  9 24 31 98 37 73 56 48]\n",
            "Client indices: [52 54 11 39 70 28 61 53 74 88 86 42 14 32  2 76]\n",
            "Client indices: [22 95 38  3 72 21 80 85 69 65 36 43  0 79 12 16]\n",
            "Subset list: [27 13 26 62 77 45 82 66 94 99 57 75 23 90 44 50]\n"
          ]
        }
      ]
    },
    {
      "cell_type": "code",
      "source": [
        "def non_iid_indices(dataset, num_clients, Nc=2, num_classes=7):\n",
        "    \"\"\"\n",
        "    Restituisce una lista di liste di indici del dataset per ogni client,\n",
        "    seguendo una distribuzione non-IID con Nc classi per client.\n",
        "\n",
        "    Args:\n",
        "        dataset: dataset PyTorch (con __getitem__ che restituisce (image, label))\n",
        "        num_clients: numero di client\n",
        "        Nc: numero di classi per client\n",
        "        num_classes: numero totale di classi nel dataset\n",
        "        seed: seme per la riproducibilità\n",
        "\n",
        "    Returns:\n",
        "        client_indices: lista di liste, ogni sotto-lista contiene gli indici assegnati a un client\n",
        "    \"\"\"\n",
        "    seed=42\n",
        "    random.seed(seed)\n",
        "    np.random.seed(seed)\n",
        "\n",
        "    # Step 1: Organizza gli indici per classe\n",
        "    class_indices = [[] for _ in range(num_classes)]\n",
        "    print(class_indices)\n",
        "    for idx in range(len(dataset)):\n",
        "        _, label = dataset[idx]\n",
        "        class_indices[label].append(idx)\n",
        "\n",
        "    # Shuffle degli indici dentro ogni classe (modifica in-place)\n",
        "    for cls_idxs in class_indices:\n",
        "        random.shuffle(cls_idxs)  # Mescola direttamente gli elementi della lista\n",
        "\n",
        "    # Step 2: Assegna Nc classi diverse a ogni client\n",
        "    client_indices = [[] for _ in range(num_clients)]\n",
        "\n",
        "\n",
        "    # DIZIONARIO CHE INDICA Quante volte ogni classe deve essere assegnata, approssimativamente\n",
        "    class_assignments = {i: 0 for i in range(num_classes)}\n",
        "\n",
        "\n",
        "\n",
        "\n",
        "    for client_id in range(num_clients):\n",
        "      # Se finiti i pool, rimescola (per garantire che ogni classe venga usata abbastanza)\n",
        "      if len(class_pool) < Nc:\n",
        "          class_pool = all_class_ids.copy()\n",
        "          random.shuffle(class_pool)\n",
        "\n",
        "      # Seleziona Nc classi non ancora troppo usate\n",
        "      selected_classes = []\n",
        "      while len(selected_classes) < Nc and class_pool:\n",
        "          cls = class_pool.pop()\n",
        "          selected_classes.append(cls)\n",
        "          class_assignments[cls] += 1\n",
        "\n",
        "      # Determina quanti esempi per questo client (circa bilanciato)\n",
        "      total_per_client = len(dataset) // num_clients\n",
        "      samples_per_class = total_per_client // Nc\n",
        "\n",
        "      for cls in selected_classes:\n",
        "          selected_indices = class_indices[cls][:samples_per_class]\n",
        "          class_indices[cls] = class_indices[cls][samples_per_class:]  # Rimuove gli usati\n",
        "          client_indices[client_id].extend(selected_indices)\n",
        "\n",
        "    return client_indices\n",
        "\n",
        "\n",
        "dataset = range(100)\n",
        "num_clients = 6\n",
        "non_iid_indices(dataset, num_clients)\n"
      ],
      "metadata": {
        "id": "ARj2hs02UFYw",
        "colab": {
          "base_uri": "https://localhost:8080/",
          "height": 335
        },
        "outputId": "0cdbf785-351f-4c2d-9b97-0954e4140e7e"
      },
      "execution_count": 34,
      "outputs": [
        {
          "output_type": "stream",
          "name": "stdout",
          "text": [
            "[[], [], [], [], [], [], [], [], [], [], [], [], [], [], [], [], [], [], [], [], [], [], [], [], [], [], [], [], [], [], [], [], [], [], [], [], [], [], [], [], [], [], [], [], [], [], [], [], [], [], [], [], [], [], [], [], [], [], [], [], [], [], [], [], [], [], [], [], [], [], [], [], [], [], [], [], [], [], [], [], [], [], [], [], [], [], [], [], [], [], [], [], [], [], [], [], [], [], [], []]\n"
          ]
        },
        {
          "output_type": "error",
          "ename": "TypeError",
          "evalue": "cannot unpack non-iterable int object",
          "traceback": [
            "\u001b[0;31m---------------------------------------------------------------------------\u001b[0m",
            "\u001b[0;31mTypeError\u001b[0m                                 Traceback (most recent call last)",
            "\u001b[0;32m<ipython-input-34-3ba677ecb54c>\u001b[0m in \u001b[0;36m<cell line: 0>\u001b[0;34m()\u001b[0m\n\u001b[1;32m     66\u001b[0m \u001b[0mdataset\u001b[0m \u001b[0;34m=\u001b[0m \u001b[0mrange\u001b[0m\u001b[0;34m(\u001b[0m\u001b[0;36m100\u001b[0m\u001b[0;34m)\u001b[0m\u001b[0;34m\u001b[0m\u001b[0;34m\u001b[0m\u001b[0m\n\u001b[1;32m     67\u001b[0m \u001b[0mnum_clients\u001b[0m \u001b[0;34m=\u001b[0m \u001b[0;36m6\u001b[0m\u001b[0;34m\u001b[0m\u001b[0;34m\u001b[0m\u001b[0m\n\u001b[0;32m---> 68\u001b[0;31m \u001b[0mnon_iid_indices\u001b[0m\u001b[0;34m(\u001b[0m\u001b[0mdataset\u001b[0m\u001b[0;34m,\u001b[0m \u001b[0mnum_clients\u001b[0m\u001b[0;34m)\u001b[0m\u001b[0;34m\u001b[0m\u001b[0;34m\u001b[0m\u001b[0m\n\u001b[0m",
            "\u001b[0;32m<ipython-input-34-3ba677ecb54c>\u001b[0m in \u001b[0;36mnon_iid_indices\u001b[0;34m(dataset, num_clients, Nc, num_classes)\u001b[0m\n\u001b[1;32m     22\u001b[0m     \u001b[0mprint\u001b[0m\u001b[0;34m(\u001b[0m\u001b[0mclass_indices\u001b[0m\u001b[0;34m)\u001b[0m\u001b[0;34m\u001b[0m\u001b[0;34m\u001b[0m\u001b[0m\n\u001b[1;32m     23\u001b[0m     \u001b[0;32mfor\u001b[0m \u001b[0midx\u001b[0m \u001b[0;32min\u001b[0m \u001b[0mrange\u001b[0m\u001b[0;34m(\u001b[0m\u001b[0mlen\u001b[0m\u001b[0;34m(\u001b[0m\u001b[0mdataset\u001b[0m\u001b[0;34m)\u001b[0m\u001b[0;34m)\u001b[0m\u001b[0;34m:\u001b[0m\u001b[0;34m\u001b[0m\u001b[0;34m\u001b[0m\u001b[0m\n\u001b[0;32m---> 24\u001b[0;31m         \u001b[0m_\u001b[0m\u001b[0;34m,\u001b[0m \u001b[0mlabel\u001b[0m \u001b[0;34m=\u001b[0m \u001b[0mdataset\u001b[0m\u001b[0;34m[\u001b[0m\u001b[0midx\u001b[0m\u001b[0;34m]\u001b[0m\u001b[0;34m\u001b[0m\u001b[0;34m\u001b[0m\u001b[0m\n\u001b[0m\u001b[1;32m     25\u001b[0m         \u001b[0mclass_indices\u001b[0m\u001b[0;34m[\u001b[0m\u001b[0mlabel\u001b[0m\u001b[0;34m]\u001b[0m\u001b[0;34m.\u001b[0m\u001b[0mappend\u001b[0m\u001b[0;34m(\u001b[0m\u001b[0midx\u001b[0m\u001b[0;34m)\u001b[0m\u001b[0;34m\u001b[0m\u001b[0;34m\u001b[0m\u001b[0m\n\u001b[1;32m     26\u001b[0m \u001b[0;34m\u001b[0m\u001b[0m\n",
            "\u001b[0;31mTypeError\u001b[0m: cannot unpack non-iterable int object"
          ]
        }
      ]
    }
  ]
}